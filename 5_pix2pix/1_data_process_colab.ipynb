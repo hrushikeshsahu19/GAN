{
 "cells": [
  {
   "cell_type": "markdown",
   "metadata": {},
   "source": [
    "<table>\n",
    "    <tr>\n",
    "        <td>\n",
    "            <h1>Group 7</h1>\n",
    "        </td>\n",
    "        <td>\n",
    "            <img src=\"https://colab.research.google.com/img/colab_favicon_256px.png\" width=\"120\"/><br>\n",
    "            <a href=\"https://colab.research.google.com/github/mdazharuddin1011999/GAN/blob/master/5_pix2pix/1_data_process_colab.ipynb\">Open with Colab</a>\n",
    "        </td>\n",
    "    </tr>\n",
    "</table>"
   ]
  },
  {
   "cell_type": "markdown",
   "metadata": {},
   "source": [
    "#### Download dataset from http://efrosgans.eecs.berkeley.edu/pix2pix/datasets/maps.tar.gz"
   ]
  },
  {
   "cell_type": "code",
   "execution_count": 1,
   "metadata": {
    "colab": {
     "base_uri": "https://localhost:8080/"
    },
    "id": "Zq6I6CziqBYi",
    "outputId": "6257e27e-ed2a-450a-d974-964fef561cfa"
   },
   "outputs": [
    {
     "name": "stderr",
     "output_type": "stream",
     "text": [
      "'wget' is not recognized as an internal or external command,\n",
      "operable program or batch file.\n"
     ]
    }
   ],
   "source": [
    "!wget http://efrosgans.eecs.berkeley.edu/pix2pix/datasets/maps.tar.gz"
   ]
  },
  {
   "cell_type": "markdown",
   "metadata": {},
   "source": [
    "#### Extract the images from the downloaded tar file"
   ]
  },
  {
   "cell_type": "code",
   "execution_count": null,
   "metadata": {
    "id": "BnEZ8gYfqxO-"
   },
   "outputs": [],
   "source": [
    "!tar -xf maps.tar.gz"
   ]
  },
  {
   "cell_type": "code",
   "execution_count": null,
   "metadata": {
    "colab": {
     "base_uri": "https://localhost:8080/"
    },
    "id": "Rcwx5B1xrqZ4",
    "outputId": "0eb8a7f6-084e-47dd-94c9-f134107e140c"
   },
   "outputs": [
    {
     "name": "stdout",
     "output_type": "stream",
     "text": [
      "maps  maps.tar.gz  sample_data\n"
     ]
    }
   ],
   "source": [
    "!ls"
   ]
  },
  {
   "cell_type": "markdown",
   "metadata": {},
   "source": [
    "#### Our images are inside the maps directory\n",
    "**maps directory contains two sub-directories: train, val**  \n",
    "**We have used train images only**"
   ]
  },
  {
   "cell_type": "code",
   "execution_count": null,
   "metadata": {
    "id": "IwE1hoBKr0TV"
   },
   "outputs": [],
   "source": [
    "from os import listdir"
   ]
  },
  {
   "cell_type": "markdown",
   "metadata": {},
   "source": [
    "#### Get the name of all images inside train directory"
   ]
  },
  {
   "cell_type": "code",
   "execution_count": null,
   "metadata": {
    "id": "rZcwgFchr6O_"
   },
   "outputs": [],
   "source": [
    "files = listdir(\"maps/train\")"
   ]
  },
  {
   "cell_type": "code",
   "execution_count": null,
   "metadata": {
    "id": "YsHESErLsCKO"
   },
   "outputs": [],
   "source": [
    "from tensorflow.keras.preprocessing.image import load_img\n",
    "from tensorflow.keras.preprocessing.image import img_to_array"
   ]
  },
  {
   "cell_type": "code",
   "execution_count": null,
   "metadata": {
    "id": "qDlE2ROBsO-C"
   },
   "outputs": [],
   "source": [
    "from tqdm import tqdm"
   ]
  },
  {
   "cell_type": "code",
   "execution_count": null,
   "metadata": {
    "id": "TIdnO-04s3-P"
   },
   "outputs": [],
   "source": [
    "src_image=[]\n",
    "tar_image=[]"
   ]
  },
  {
   "cell_type": "markdown",
   "metadata": {},
   "source": [
    "**Each train image contains both source and target (i.e satellite view and google maps view)**  \n",
    "**Split and store them in src_image and tar_image list respectively**"
   ]
  },
  {
   "cell_type": "code",
   "execution_count": null,
   "metadata": {
    "colab": {
     "base_uri": "https://localhost:8080/"
    },
    "id": "k8xJaUkTstj6",
    "outputId": "04c42598-cfac-4b04-beb9-2723d040869c"
   },
   "outputs": [
    {
     "name": "stderr",
     "output_type": "stream",
     "text": [
      "100%|██████████| 1096/1096 [00:13<00:00, 80.96it/s]\n"
     ]
    }
   ],
   "source": [
    "for i in tqdm(range(len(files))):\n",
    "    pixels = load_img(\"maps/train/\"+files[i], target_size=(256, 512))\n",
    "    pixels = img_to_array(pixels)\n",
    "    sat_image, map_image = pixels[:, :256], pixels[:, 256:]\n",
    "    src_image.append(sat_image)\n",
    "    tar_image.append(map_image)"
   ]
  },
  {
   "cell_type": "code",
   "execution_count": null,
   "metadata": {
    "id": "b32_dKgYtzZg"
   },
   "outputs": [],
   "source": [
    "from numpy import asarray\n",
    "\n",
    "src_image = asarray(src_image, dtype=\"uint8\")\n",
    "tar_image = asarray(tar_image, dtype=\"uint8\")"
   ]
  },
  {
   "cell_type": "code",
   "execution_count": null,
   "metadata": {
    "colab": {
     "base_uri": "https://localhost:8080/"
    },
    "id": "-Fo7haPduEEe",
    "outputId": "829a9765-4d09-4291-8349-79a8fe366d6a"
   },
   "outputs": [
    {
     "name": "stdout",
     "output_type": "stream",
     "text": [
      "(1096, 256, 256, 3) (1096, 256, 256, 3)\n"
     ]
    }
   ],
   "source": [
    "print(src_image.shape, tar_image.shape)"
   ]
  },
  {
   "cell_type": "markdown",
   "metadata": {},
   "source": [
    "**So there are total 1096 images**  \n",
    "**Save both src_images (source) and tar_images (target) lists in compressed form**"
   ]
  },
  {
   "cell_type": "code",
   "execution_count": null,
   "metadata": {
    "id": "FJ6tAI5UuYKh"
   },
   "outputs": [],
   "source": [
    "from numpy import savez_compressed\n",
    "\n",
    "savez_compressed(\"maps.npz\", src_image, tar_image)"
   ]
  },
  {
   "cell_type": "code",
   "execution_count": null,
   "metadata": {
    "colab": {
     "base_uri": "https://localhost:8080/"
    },
    "id": "Hv3MmC8OvKtW",
    "outputId": "f31c9bf6-91fc-4016-d1af-ff1138159cc3"
   },
   "outputs": [
    {
     "name": "stdout",
     "output_type": "stream",
     "text": [
      "total 452M\n",
      "4.0K maps  213M maps.npz  239M maps.tar.gz  4.0K sample_data\n"
     ]
    }
   ],
   "source": [
    "!ls -sh"
   ]
  },
  {
   "cell_type": "markdown",
   "metadata": {},
   "source": [
    "**Export the compressed file to Google Drive to be used later**"
   ]
  },
  {
   "cell_type": "code",
   "execution_count": 1,
   "metadata": {
    "colab": {
     "base_uri": "https://localhost:8080/"
    },
    "id": "PXAH-iYtvP_b",
    "outputId": "d9124ec2-9373-4597-ce6c-23a5f5153ce2"
   },
   "outputs": [
    {
     "name": "stdout",
     "output_type": "stream",
     "text": [
      "Mounted at /content/gdrive\n"
     ]
    }
   ],
   "source": [
    "from google.colab import drive\n",
    "drive.mount(\"/content/gdrive\")"
   ]
  },
  {
   "cell_type": "code",
   "execution_count": 2,
   "metadata": {
    "colab": {
     "base_uri": "https://localhost:8080/"
    },
    "id": "ufYdW2bAXCxg",
    "outputId": "3128e562-b237-4d05-c437-bd1e6ff81bae"
   },
   "outputs": [
    {
     "name": "stdout",
     "output_type": "stream",
     "text": [
      "mkdir: cannot create directory ‘gdrive/MyDrive/7th Sem Project’: File exists\n"
     ]
    }
   ],
   "source": [
    "!mkdir \"gdrive/MyDrive/7th Sem Project\""
   ]
  },
  {
   "cell_type": "code",
   "execution_count": null,
   "metadata": {
    "id": "bUIdDDxBwb3V"
   },
   "outputs": [],
   "source": [
    "!cp maps.npz \"gdrive/MyDrive/7th Sem Project/maps.npz\""
   ]
  },
  {
   "cell_type": "code",
   "execution_count": null,
   "metadata": {
    "colab": {
     "base_uri": "https://localhost:8080/"
    },
    "id": "BDZmqaIwwECR",
    "outputId": "520d072f-ca3f-4421-e522-da7b19e15f56"
   },
   "outputs": [
    {
     "name": "stdout",
     "output_type": "stream",
     "text": [
      "maps.npz\n"
     ]
    }
   ],
   "source": [
    "!ls \"gdrive/My Drive/7th Sem Project\""
   ]
  },
  {
   "cell_type": "code",
   "execution_count": null,
   "metadata": {
    "id": "fDRlpLa-wsXL"
   },
   "outputs": [],
   "source": []
  }
 ],
 "metadata": {
  "colab": {
   "collapsed_sections": [],
   "name": "1_data_process.ipynb",
   "provenance": []
  },
  "kernelspec": {
   "display_name": "Python 3",
   "language": "python",
   "name": "python3"
  },
  "language_info": {
   "codemirror_mode": {
    "name": "ipython",
    "version": 3
   },
   "file_extension": ".py",
   "mimetype": "text/x-python",
   "name": "python",
   "nbconvert_exporter": "python",
   "pygments_lexer": "ipython3",
   "version": "3.8.3"
  }
 },
 "nbformat": 4,
 "nbformat_minor": 1
}

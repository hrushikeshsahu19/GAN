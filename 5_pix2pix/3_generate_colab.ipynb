{
 "cells": [
  {
   "cell_type": "markdown",
   "metadata": {},
   "source": [
    "<table>\n",
    "    <tr>\n",
    "        <td>\n",
    "            <h1>Group 7</h1>\n",
    "        </td>\n",
    "        <td>\n",
    "            <img src=\"https://colab.research.google.com/img/colab_favicon_256px.png\" width=\"120\"/><br>\n",
    "            <a href=\"https://colab.research.google.com/github/mdazharuddin1011999/GAN/blob/master/5_pix2pix/3_generate_colab.ipynb\">Open with Colab</a>\n",
    "        </td>\n",
    "    </tr>\n",
    "</table>"
   ]
  },
  {
   "cell_type": "code",
   "execution_count": 1,
   "metadata": {
    "colab": {
     "base_uri": "https://localhost:8080/"
    },
    "id": "zsxRwnAlX-Ug",
    "outputId": "48430d32-fdf0-4a86-abe0-8548db8201c7"
   },
   "outputs": [
    {
     "name": "stdout",
     "output_type": "stream",
     "text": [
      "Drive already mounted at /content/gdrive; to attempt to forcibly remount, call drive.mount(\"/content/gdrive\", force_remount=True).\n"
     ]
    }
   ],
   "source": [
    "from google.colab import drive\n",
    "drive.mount(\"/content/gdrive\")"
   ]
  },
  {
   "cell_type": "code",
   "execution_count": 2,
   "metadata": {
    "id": "m8zs0BFfaJeb"
   },
   "outputs": [],
   "source": [
    "basePath = \"gdrive/MyDrive/7th Sem Project/\""
   ]
  },
  {
   "cell_type": "code",
   "execution_count": 3,
   "metadata": {
    "colab": {
     "base_uri": "https://localhost:8080/"
    },
    "id": "TQOTDqPsdpTe",
    "outputId": "13e900ab-4551-4b76-9387-d32f8e4575c2"
   },
   "outputs": [
    {
     "name": "stdout",
     "output_type": "stream",
     "text": [
      "mkdir: cannot create directory ‘gdrive/MyDrive/7th Sem Project/Showcase’: File exists\n"
     ]
    }
   ],
   "source": [
    "!mkdir \"gdrive/MyDrive/7th Sem Project/Showcase\""
   ]
  },
  {
   "cell_type": "code",
   "execution_count": 4,
   "metadata": {
    "colab": {
     "base_uri": "https://localhost:8080/"
    },
    "id": "I8-7QEFzYOnm",
    "outputId": "b4df205b-7e6b-46eb-8a4b-8ad227fc84a7"
   },
   "outputs": [
    {
     "name": "stdout",
     "output_type": "stream",
     "text": [
      "maps.npz  Models  Plots  Showcase\n"
     ]
    }
   ],
   "source": [
    "!ls \"gdrive/MyDrive/7th Sem Project/\""
   ]
  },
  {
   "cell_type": "markdown",
   "metadata": {},
   "source": [
    "#### Load the compressed data from Google Drive"
   ]
  },
  {
   "cell_type": "code",
   "execution_count": 5,
   "metadata": {
    "colab": {
     "base_uri": "https://localhost:8080/"
    },
    "id": "HN1Z698qZv0z",
    "outputId": "821e724a-609e-460b-f895-3909c70e9ae5"
   },
   "outputs": [
    {
     "name": "stdout",
     "output_type": "stream",
     "text": [
      "['arr_0', 'arr_1']\n"
     ]
    }
   ],
   "source": [
    "from numpy import load\n",
    "\n",
    "data = load(basePath + \"maps.npz\")\n",
    "print(data.files)"
   ]
  },
  {
   "cell_type": "markdown",
   "metadata": {},
   "source": [
    "#### Change the data points from [0, 255] to [-1, 1]"
   ]
  },
  {
   "cell_type": "code",
   "execution_count": 6,
   "metadata": {
    "id": "YcLYvcSXZ2HJ"
   },
   "outputs": [],
   "source": [
    "source, target = data['arr_0'], data['arr_1']\n",
    "source = (source - 127.5)/127.5\n",
    "target = (target - 127.5)/127.5"
   ]
  },
  {
   "cell_type": "code",
   "execution_count": 7,
   "metadata": {
    "id": "pdCMNUJiYnAF"
   },
   "outputs": [],
   "source": [
    "from os import listdir\n",
    "\n",
    "modelsName = listdir(basePath+\"Models/\")"
   ]
  },
  {
   "cell_type": "code",
   "execution_count": 8,
   "metadata": {
    "id": "E0gWm4twYxEo"
   },
   "outputs": [],
   "source": [
    "def generate_real_samples(n, ix, patch_shape):\n",
    "  X1 = source[ix]\n",
    "  X2 = target[ix]\n",
    "  return X1, X2"
   ]
  },
  {
   "cell_type": "code",
   "execution_count": 9,
   "metadata": {
    "id": "v8nx2FgMb0ff"
   },
   "outputs": [],
   "source": [
    "def generate_fake_samples(generator, samples, patch_shape):\n",
    "  X = generator.predict(samples)\n",
    "  return X"
   ]
  },
  {
   "cell_type": "code",
   "execution_count": 10,
   "metadata": {
    "id": "1u6nffdjhbLK"
   },
   "outputs": [],
   "source": [
    "import matplotlib.pyplot as plt\n",
    "%matplotlib inline"
   ]
  },
  {
   "cell_type": "code",
   "execution_count": 11,
   "metadata": {
    "id": "D3Eg4cGmc829"
   },
   "outputs": [],
   "source": [
    "def generate_plot(model_num, ix, generator, n):\n",
    "  X_realA, X_realB = generate_real_samples(n, ix, 1)\n",
    "  X_fakeB = generate_fake_samples(generator, X_realA, 1)\n",
    "  X_realA = (X_realA+1)/2\n",
    "  X_realB = (X_realB+1)/2\n",
    "  X_fakeB = (X_fakeB+1)/2\n",
    "\n",
    "  fig = plt.figure(figsize=(12,8))\n",
    "  for i in range(n):\n",
    "    plt.subplot(3, n, 1+i)\n",
    "    plt.axis(\"off\")\n",
    "    plt.imshow(X_realA[i])\n",
    "  \n",
    "  for i in range(n):\n",
    "    plt.subplot(3, n, 1+n+i)\n",
    "    plt.axis(\"off\")\n",
    "    plt.imshow(X_fakeB[i])\n",
    "  \n",
    "  for i in range(n):\n",
    "    plt.subplot(3, n, 1+2*n+i)\n",
    "    plt.axis(\"off\")\n",
    "    plt.imshow(X_realB[i])\n",
    "\n",
    "  plt.savefig(\"%sShowcase/plot_%02d.png\"%(basePath, model_num+1))\n",
    "  plt.close(fig)"
   ]
  },
  {
   "cell_type": "code",
   "execution_count": 12,
   "metadata": {
    "id": "JjND7ByRfFiW"
   },
   "outputs": [],
   "source": [
    "from numpy.random import randint\n",
    "from tensorflow.compat.v1.logging import set_verbosity, ERROR\n",
    "from tensorflow.keras.models import load_model\n",
    "from tqdm import tqdm"
   ]
  },
  {
   "cell_type": "markdown",
   "metadata": {},
   "source": [
    "#### Load all models one-by-one and generate plots for comparison"
   ]
  },
  {
   "cell_type": "code",
   "execution_count": 13,
   "metadata": {
    "id": "L_Q9BV3if7xX"
   },
   "outputs": [],
   "source": [
    "def run_all_models(n):\n",
    "  ix = randint(0, source.shape[0], n)\n",
    "  set_verbosity(ERROR)\n",
    "  for i in tqdm(range(len(modelsName))):\n",
    "    # print(\"Processing: \"+modelsName[i])\n",
    "    model = load_model(basePath+\"Models/\"+modelsName[i])\n",
    "    generate_plot(i, ix, model, n)"
   ]
  },
  {
   "cell_type": "code",
   "execution_count": 14,
   "metadata": {
    "colab": {
     "base_uri": "https://localhost:8080/"
    },
    "id": "tSXxTvX5hNaP",
    "outputId": "ee8a64a3-26da-42bd-9a3a-a2076fc90568"
   },
   "outputs": [
    {
     "name": "stderr",
     "output_type": "stream",
     "text": [
      "100%|██████████| 11/11 [01:03<00:00,  5.77s/it]\n"
     ]
    }
   ],
   "source": [
    "run_all_models(5)"
   ]
  },
  {
   "cell_type": "code",
   "execution_count": 14,
   "metadata": {
    "id": "JujhX8Hil1jv"
   },
   "outputs": [],
   "source": []
  }
 ],
 "metadata": {
  "accelerator": "GPU",
  "colab": {
   "name": "3_generate.ipynb",
   "provenance": []
  },
  "kernelspec": {
   "display_name": "Python 3",
   "language": "python",
   "name": "python3"
  },
  "language_info": {
   "codemirror_mode": {
    "name": "ipython",
    "version": 3
   },
   "file_extension": ".py",
   "mimetype": "text/x-python",
   "name": "python",
   "nbconvert_exporter": "python",
   "pygments_lexer": "ipython3",
   "version": "3.8.3"
  }
 },
 "nbformat": 4,
 "nbformat_minor": 1
}
